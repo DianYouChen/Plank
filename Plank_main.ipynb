{
 "cells": [
  {
   "cell_type": "code",
   "execution_count": null,
   "id": "b606d98e-a431-4c0e-ac40-19921c69b4b9",
   "metadata": {},
   "outputs": [],
   "source": [
    "%config Completer.use_jedi = False\n",
    "### reload magic\n",
    "%reload_ext autoreload\n",
    "%autoreload 2\n",
    "import numpy as np\n",
    "import os\n",
    "\n",
    "from utility import (PlankSolver, \n",
    "                     drawer_lamda, drawer_lamda_nu, drawer_approximations)\n",
    "from const import (h, k, c, tera)"
   ]
  },
  {
   "cell_type": "code",
   "execution_count": null,
   "id": "105cb665",
   "metadata": {},
   "outputs": [],
   "source": [
    "wl_start = 0.1; wl_end = 20 # (μm)\n",
    "spec_wl  = np.linspace(wl_start, wl_end, 1000)\n",
    "TS = [5770, 270]\n",
    "B_lamda = PlankSolver(TS).get_plank_lamda(spec_wl)\n",
    "drawer_lamda(np.split(B_lamda,2,axis=0), spec_wl, TS)"
   ]
  },
  {
   "cell_type": "code",
   "execution_count": null,
   "id": "413d292c",
   "metadata": {},
   "outputs": [],
   "source": [
    "Tb = [5770]\n",
    "\n",
    "freq_start = 0.001; freq_end = 1600 # (THz)\n",
    "freqs  = np.linspace(freq_start, freq_end, 1000)\n",
    "B_nu = PlankSolver(Tb).get_plank_nu(freqs)\n",
    "\n",
    "wl_start = 0.3; wl_end = 1 # (μm)\n",
    "spec_wl  = np.linspace(wl_start, wl_end, 1000)\n",
    "B_lamda = PlankSolver(Tb).get_plank_lamda(spec_wl)\n",
    "\n",
    "recon_B = {\"lamda\": B_lamda, \"nu\": B_nu}\n",
    "drawer_lamda_nu(spec_wl, freqs*tera, Tb, varns=['lamda','nu'], **recon_B)"
   ]
  },
  {
   "cell_type": "code",
   "execution_count": null,
   "id": "08980258",
   "metadata": {},
   "outputs": [],
   "source": [
    "wl_start = 0.1; wl_end = 30 # (μm)\n",
    "spec_wl  = np.linspace(wl_start, wl_end, 1000)\n",
    "Tm = [5770]\n",
    "calculator = PlankSolver(Tm)\n",
    "B_lamda    = [calculator.get_plank_lamda(spec_wl),\n",
    "              calculator.get_Wien(spec_wl),\n",
    "              calculator.get_RayJean(spec_wl)]\n",
    "methods = [\"Plank\", \"Wien\", \"Ray-Jean\"]\n",
    "drawer_approximations(B_lamda, spec_wl, *methods)"
   ]
  }
 ],
 "metadata": {
  "kernelspec": {
   "display_name": "DLRA_v3",
   "language": "python",
   "name": "python3"
  },
  "language_info": {
   "codemirror_mode": {
    "name": "ipython",
    "version": 3
   },
   "file_extension": ".py",
   "mimetype": "text/x-python",
   "name": "python",
   "nbconvert_exporter": "python",
   "pygments_lexer": "ipython3",
   "version": "3.8.12"
  }
 },
 "nbformat": 4,
 "nbformat_minor": 5
}
